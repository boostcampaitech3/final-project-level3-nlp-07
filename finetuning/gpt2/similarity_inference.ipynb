{
 "cells": [
  {
   "cell_type": "code",
   "execution_count": 1,
   "id": "95a0a2ed-fd91-4d96-ab8d-094cbe31d1e6",
   "metadata": {},
   "outputs": [],
   "source": [
    "import numpy as np\n",
    "import pandas as pd\n",
    "import matplotlib as mpl\n",
    "from tqdm.auto import tqdm\n",
    "import matplotlib.pyplot as plt\n",
    "import seaborn as sns"
   ]
  },
  {
   "cell_type": "code",
   "execution_count": null,
   "id": "def67ba5-550e-4ec8-a34e-8aefb846c705",
   "metadata": {},
   "outputs": [],
   "source": [
    "paths = [\"predict_4_256_special/predict_\", \"predict_32_256_special/predict_\"]"
   ]
  },
  {
   "cell_type": "code",
   "execution_count": null,
   "id": "49c4b6c6-741c-42e9-b1b5-1b52d31b0c39",
   "metadata": {},
   "outputs": [],
   "source": [
    "for path in paths:\n",
    "    df = pd.read_csv(path)\n",
    "\n",
    "    g1_cnt = sum(df['glove(고객-예측)'])/len(df)\n",
    "    g2_cnt = sum(df['glove(사장-예측)'])/len(df)\n",
    "    s1_cnt = sum(df['SBERT(고객-예측)'])/len(df)        \n",
    "    s2_cnt = sum(df['SBERT(사장-예측)'])/len(df)\n",
    "    t1_cnt = sum(df['tf-idf(사장-예측)'])/len(df)\n",
    "    t2_cnt = sum(df['tf-idf(사장-예측)'])/len(df)\n",
    "\n",
    "    print(path)\n",
    "    print(\"glove(고객-예측): \",g1_cnt)\n",
    "    print(\"glove(사장-예측): \",g2_cnt)\n",
    "    print(\"SBERT(고객-예측): \",s1_cnt)\n",
    "    print(\"SBERT(사장-예측): \",s2_cnt)\n",
    "    print(\"tf-idf(고객-예측): \",t1_cnt)\n",
    "    print(\"tf-idf(사장-예측): \",t2_cnt)\n",
    "    print(\"총 평균: \", (g1_cnt+g2_cnt+s1_cnt+s2_cnt+t1_cnt+t2_cnt)/6)\n",
    "    print()"
   ]
  }
 ],
 "metadata": {
  "kernelspec": {
   "display_name": "Python 3 (ipykernel)",
   "language": "python",
   "name": "python3"
  },
  "language_info": {
   "codemirror_mode": {
    "name": "ipython",
    "version": 3
   },
   "file_extension": ".py",
   "mimetype": "text/x-python",
   "name": "python",
   "nbconvert_exporter": "python",
   "pygments_lexer": "ipython3",
   "version": "3.8.5"
  }
 },
 "nbformat": 4,
 "nbformat_minor": 5
}

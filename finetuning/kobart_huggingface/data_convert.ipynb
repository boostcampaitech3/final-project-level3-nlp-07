{
 "cells": [
  {
   "cell_type": "code",
   "execution_count": 1,
   "metadata": {},
   "outputs": [],
   "source": [
    "import pyarrow as pa\n",
    "import pandas as pd\n",
    "from datasets import Dataset"
   ]
  },
  {
   "cell_type": "code",
   "execution_count": 2,
   "metadata": {},
   "outputs": [],
   "source": [
    "# 각 csv 파일을 df 형식으로 불러옵니다\n",
    "train_df = pd.read_csv(\"train.csv\", encoding='utf-8')\n",
    "val_df = pd.read_csv(\"val.csv\", encoding='utf-8')\n",
    "test_df = pd.read_csv(\"test.csv\", encoding='utf-8')"
   ]
  },
  {
   "cell_type": "code",
   "execution_count": 3,
   "metadata": {},
   "outputs": [],
   "source": [
    "# 각 df를 pyarrow 형식의 huggingface dataset으로 변환합니다\n",
    "hg_train = Dataset(pa.Table.from_pandas(train_df))\n",
    "hg_val = Dataset(pa.Table.from_pandas(val_df))\n",
    "hg_test = Dataset(pa.Table.from_pandas(test_df))"
   ]
  },
  {
   "cell_type": "code",
   "execution_count": 4,
   "metadata": {},
   "outputs": [],
   "source": [
    "# 변환된 dataset들을 저장합니다. 이후 train.py에서 쓸 수 있습니다.\n",
    "hg_train.save_to_disk(\"datasets/train_dataset\")\n",
    "hg_val.save_to_disk(\"datasets/val_dataset\")\n",
    "hg_test.save_to_disk(\"datasets/test_dataset\")"
   ]
  }
 ],
 "metadata": {
  "interpreter": {
   "hash": "d4d1e4263499bec80672ea0156c357c1ee493ec2b1c70f0acce89fc37c4a6abe"
  },
  "kernelspec": {
   "display_name": "Python 3.8.5 ('base')",
   "language": "python",
   "name": "python3"
  },
  "language_info": {
   "codemirror_mode": {
    "name": "ipython",
    "version": 3
   },
   "file_extension": ".py",
   "mimetype": "text/x-python",
   "name": "python",
   "nbconvert_exporter": "python",
   "pygments_lexer": "ipython3",
   "version": "3.8.5"
  },
  "orig_nbformat": 4
 },
 "nbformat": 4,
 "nbformat_minor": 2
}
